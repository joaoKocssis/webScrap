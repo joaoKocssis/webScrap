{
 "cells": [
  {
   "cell_type": "code",
   "execution_count": null,
   "metadata": {},
   "outputs": [],
   "source": [
    "from selenium import webdriver\n",
    "from webdriver_manager.chrome import ChromeDriverManager\n",
    "from selenium.webdriver.chrome.service import Service\n",
    "from selenium.webdriver.common.by import By\n",
    "from selenium. webdriver. common. keys import Keys\n",
    "import pandas as pd\n",
    "import math"
   ]
  },
  {
   "cell_type": "code",
   "execution_count": null,
   "metadata": {},
   "outputs": [],
   "source": [
    "servico = Service(ChromeDriverManager().install())"
   ]
  },
  {
   "cell_type": "code",
   "execution_count": null,
   "metadata": {},
   "outputs": [],
   "source": [
    "options = webdriver.ChromeOptions()\n",
    "options.add_argument(\"--headless\")\n",
    "navegador = webdriver.Chrome(service=servico, options=options)\n",
    "\n",
    "navegador.get(\"https://www.grandcru.com.br/collections/vinho-promocao?page=1\")\n",
    "\n"
   ]
  },
  {
   "cell_type": "code",
   "execution_count": null,
   "metadata": {},
   "outputs": [],
   "source": [
    "tipo=navegador.find_element(By.XPATH,'//*[@id=\"usf-product-wrapper\"]/div[1]/div/div/div[2]/a').text\n",
    "#frase.send_keys(Keys.RETURN)\n",
    "print(tipo)"
   ]
  },
  {
   "cell_type": "code",
   "execution_count": null,
   "metadata": {},
   "outputs": [],
   "source": [
    "preco = navegador.find_element(By.XPATH, '//*[@id=\"usf-product-wrapper\"]/div[1]/div/div/div[2]/div[2]/div/div/span[1]/b').text\n",
    "print(preco)"
   ]
  },
  {
   "cell_type": "code",
   "execution_count": null,
   "metadata": {},
   "outputs": [],
   "source": [
    "numero = navegador.find_element(By.XPATH, '//*[@id=\"usf_container\"]/div[2]/div[1]/div[1]/span[2]/b').text\n",
    "numero = int(numero)\n",
    "ultimaPagina = math.ceil(numero/24)\n",
    "print(numero,ultimaPagina)\n",
    "proUltimo = numero-(ultimaPagina-1)*24\n",
    "print(proUltimo)"
   ]
  },
  {
   "cell_type": "code",
   "execution_count": null,
   "metadata": {},
   "outputs": [],
   "source": [
    "itens = []\n",
    "\n",
    "\n",
    "for x in range(1,ultimaPagina+1):\n",
    "    if x <= 6:\n",
    "        proPorPagina=25\n",
    "    else:\n",
    "        proPorPagina=proUltimo+1\n",
    "    pagine = f'https://www.grandcru.com.br/collections/vinho-promocao?page={x}'\n",
    "    navegador.get(pagine)\n",
    "    for i in range(1,proPorPagina):\n",
    "        tag = f'//*[@id=\"usf-product-wrapper\"]/div[{i}]/div/div/div[2]/a'\n",
    "        tipo = navegador.find_element(By.XPATH,tag).text\n",
    "        tagPreco = f'//*[@id=\"usf-product-wrapper\"]/div[{i}]/div/div/div[2]/div[2]/div/div/span[1]/b'\n",
    "        preco = navegador.find_element(By.XPATH, tagPreco).text\n",
    "        lista ={\n",
    "            'tipo':tipo,\n",
    "            'preco':preco\n",
    "        }\n",
    "        itens.append(lista)\n",
    "\n",
    "\n",
    "\n",
    "\n",
    "df = pd.DataFrame(itens)\n",
    "#navegador.quit()"
   ]
  },
  {
   "cell_type": "code",
   "execution_count": null,
   "metadata": {},
   "outputs": [],
   "source": [
    "print(df)"
   ]
  },
  {
   "cell_type": "code",
   "execution_count": null,
   "metadata": {},
   "outputs": [],
   "source": [
    "df.to_csv('d:/python/web/vinhos.csv')"
   ]
  }
 ],
 "metadata": {
  "kernelspec": {
   "display_name": "Python 3.10.8 64-bit (microsoft store)",
   "language": "python",
   "name": "python3"
  },
  "language_info": {
   "name": "python",
   "version": "3.10.8"
  },
  "orig_nbformat": 4,
  "vscode": {
   "interpreter": {
    "hash": "072dcdfe02784ceef2335256f125707dedc44354bbd9cf5773b8e5ac8347ec7e"
   }
  }
 },
 "nbformat": 4,
 "nbformat_minor": 2
}
