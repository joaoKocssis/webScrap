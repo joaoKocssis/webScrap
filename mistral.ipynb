{
 "cells": [
  {
   "cell_type": "code",
   "execution_count": 1,
   "metadata": {},
   "outputs": [],
   "source": [
    "import requests\n",
    "from bs4 import BeautifulSoup\n",
    "import re\n",
    "import pandas as pd\n",
    "import math"
   ]
  },
  {
   "cell_type": "code",
   "execution_count": 2,
   "metadata": {},
   "outputs": [
    {
     "data": {
      "text/plain": [
       "<Response [200]>"
      ]
     },
     "execution_count": 2,
     "metadata": {},
     "output_type": "execute_result"
    }
   ],
   "source": [
    "url = \"https://www.mistral.com.br/tipo-de-uva/pinot-noir?tamanho=750ml&pg=1\"\n",
    "header = {\n",
    "    \"User-Agent\" : \"Mozilla/5.0 (Windows NT 10.0; Win64; x64) AppleWebKit/537.36 (KHTML, like Gecko) Chrome/106.0.0.0 Safari/537.36\",\n",
    "    \"X-Requested-With\": \"XMLHttpRequest\"\n",
    "}\n",
    "\n",
    "page = requests.get(url, headers= header)\n",
    "page"
   ]
  },
  {
   "cell_type": "code",
   "execution_count": 3,
   "metadata": {},
   "outputs": [],
   "source": [
    "elementos = []\n",
    "\n",
    "\n",
    "for x in range(1,4):\n",
    "    url = f'https://www.mistral.com.br/tipo-de-uva/pinot-noir?tamanho=750ml&pg={x}'\n",
    "    page = requests.get(url, headers= header)\n",
    "    soup = BeautifulSoup(page.content, 'html.parser')\n",
    "\n",
    "    card = soup.find_all('div', class_='container-text-card')\n",
    "    for elemento in card:\n",
    "        nome = elemento.find('h2', class_='title-card-showcase')\n",
    "        nome = nome.getText()\n",
    "        produtor = elemento.find('p', class_='name-productor-card')\n",
    "        produtor = produtor.getText()   \n",
    "        descricao = elemento.find('p', class_=\"description-card\")   \n",
    "        descricao = descricao.getText() \n",
    "        preco = elemento.find('p', class_='value-wine-card')\n",
    "        preco = preco.getText()\n",
    "        vinhos = {\n",
    "            'nome': nome,\n",
    "            'produtor':produtor,\n",
    "            'descricao':descricao,\n",
    "            'preco' : preco\n",
    "        }\n",
    "        \n",
    "       \n",
    "        elementos.append(vinhos)\n",
    "\n",
    "\n",
    "df = pd.DataFrame(elementos)\n"
   ]
  },
  {
   "cell_type": "code",
   "execution_count": 4,
   "metadata": {},
   "outputs": [
    {
     "data": {
      "text/html": [
       "<div>\n",
       "<style scoped>\n",
       "    .dataframe tbody tr th:only-of-type {\n",
       "        vertical-align: middle;\n",
       "    }\n",
       "\n",
       "    .dataframe tbody tr th {\n",
       "        vertical-align: top;\n",
       "    }\n",
       "\n",
       "    .dataframe thead th {\n",
       "        text-align: right;\n",
       "    }\n",
       "</style>\n",
       "<table border=\"1\" class=\"dataframe\">\n",
       "  <thead>\n",
       "    <tr style=\"text-align: right;\">\n",
       "      <th></th>\n",
       "      <th>nome</th>\n",
       "      <th>produtor</th>\n",
       "      <th>descricao</th>\n",
       "      <th>preco</th>\n",
       "    </tr>\n",
       "  </thead>\n",
       "  <tbody>\n",
       "    <tr>\n",
       "      <th>0</th>\n",
       "      <td>La Petite Perrière Pinot Noir 2020</td>\n",
       "      <td>Domaine Guy Saget</td>\n",
       "      <td>Tinto, Pinot Noir (100%), França</td>\n",
       "      <td>R$ 152,01</td>\n",
       "    </tr>\n",
       "    <tr>\n",
       "      <th>1</th>\n",
       "      <td>Montes Alpha Pinot Noir 2019</td>\n",
       "      <td>Viña Montes</td>\n",
       "      <td>Tinto, Pinot Noir (100%), Chile</td>\n",
       "      <td>R$ 231,59</td>\n",
       "    </tr>\n",
       "    <tr>\n",
       "      <th>2</th>\n",
       "      <td>Vallontano Espumante Brut</td>\n",
       "      <td>Vallontano</td>\n",
       "      <td>Espumante, Chardonnay (75%) e Pinot Noir  (25%...</td>\n",
       "      <td>R$ 98,90</td>\n",
       "    </tr>\n",
       "    <tr>\n",
       "      <th>3</th>\n",
       "      <td>Montes Selección Limitada Pinot Noir 202...</td>\n",
       "      <td>Viña Montes</td>\n",
       "      <td>Tinto, Pinot Noir (100%), Chile</td>\n",
       "      <td>R$ 159,74</td>\n",
       "    </tr>\n",
       "    <tr>\n",
       "      <th>4</th>\n",
       "      <td>Alamos Seleccion Pinot Noir 2019</td>\n",
       "      <td>Alamos</td>\n",
       "      <td>Tinto, Pinot Noir, Argentina</td>\n",
       "      <td>R$ 154,21</td>\n",
       "    </tr>\n",
       "  </tbody>\n",
       "</table>\n",
       "</div>"
      ],
      "text/plain": [
       "                                          nome           produtor  \\\n",
       "0          La Petite Perrière Pinot Noir 2020   Domaine Guy Saget   \n",
       "1                Montes Alpha Pinot Noir 2019         Viña Montes   \n",
       "2                   Vallontano Espumante Brut          Vallontano   \n",
       "3  Montes Selección Limitada Pinot Noir 202...        Viña Montes   \n",
       "4            Alamos Seleccion Pinot Noir 2019              Alamos   \n",
       "\n",
       "                                           descricao      preco  \n",
       "0                   Tinto, Pinot Noir (100%), França  R$ 152,01  \n",
       "1                    Tinto, Pinot Noir (100%), Chile  R$ 231,59  \n",
       "2  Espumante, Chardonnay (75%) e Pinot Noir  (25%...   R$ 98,90  \n",
       "3                    Tinto, Pinot Noir (100%), Chile  R$ 159,74  \n",
       "4                       Tinto, Pinot Noir, Argentina  R$ 154,21  "
      ]
     },
     "execution_count": 4,
     "metadata": {},
     "output_type": "execute_result"
    }
   ],
   "source": [
    "df.head()"
   ]
  },
  {
   "cell_type": "code",
   "execution_count": 15,
   "metadata": {},
   "outputs": [
    {
     "data": {
      "text/html": [
       "<div>\n",
       "<style scoped>\n",
       "    .dataframe tbody tr th:only-of-type {\n",
       "        vertical-align: middle;\n",
       "    }\n",
       "\n",
       "    .dataframe tbody tr th {\n",
       "        vertical-align: top;\n",
       "    }\n",
       "\n",
       "    .dataframe thead th {\n",
       "        text-align: right;\n",
       "    }\n",
       "</style>\n",
       "<table border=\"1\" class=\"dataframe\">\n",
       "  <thead>\n",
       "    <tr style=\"text-align: right;\">\n",
       "      <th></th>\n",
       "      <th>nome</th>\n",
       "      <th>produtor</th>\n",
       "      <th>descricao</th>\n",
       "      <th>preco</th>\n",
       "    </tr>\n",
       "  </thead>\n",
       "  <tbody>\n",
       "    <tr>\n",
       "      <th>count</th>\n",
       "      <td>108</td>\n",
       "      <td>108</td>\n",
       "      <td>108</td>\n",
       "      <td>108</td>\n",
       "    </tr>\n",
       "    <tr>\n",
       "      <th>unique</th>\n",
       "      <td>102</td>\n",
       "      <td>37</td>\n",
       "      <td>37</td>\n",
       "      <td>79</td>\n",
       "    </tr>\n",
       "    <tr>\n",
       "      <th>top</th>\n",
       "      <td>Volnay 1er Cru Santenotss-du-Millieu 201...</td>\n",
       "      <td>Faiveley</td>\n",
       "      <td>Tinto, Pinot Noir (100%), França</td>\n",
       "      <td>R$ 939,10</td>\n",
       "    </tr>\n",
       "    <tr>\n",
       "      <th>freq</th>\n",
       "      <td>5</td>\n",
       "      <td>14</td>\n",
       "      <td>33</td>\n",
       "      <td>4</td>\n",
       "    </tr>\n",
       "  </tbody>\n",
       "</table>\n",
       "</div>"
      ],
      "text/plain": [
       "                                               nome  produtor  \\\n",
       "count                                           108       108   \n",
       "unique                                          102        37   \n",
       "top     Volnay 1er Cru Santenotss-du-Millieu 201...  Faiveley   \n",
       "freq                                              5        14   \n",
       "\n",
       "                               descricao      preco  \n",
       "count                                108        108  \n",
       "unique                                37         79  \n",
       "top     Tinto, Pinot Noir (100%), França  R$ 939,10  \n",
       "freq                                  33          4  "
      ]
     },
     "execution_count": 15,
     "metadata": {},
     "output_type": "execute_result"
    }
   ],
   "source": [
    "\n",
    "df.to_csv('d:/python/mistral.csv')\n",
    "df.describe()"
   ]
  }
 ],
 "metadata": {
  "kernelspec": {
   "display_name": "Python 3.10.8 64-bit (microsoft store)",
   "language": "python",
   "name": "python3"
  },
  "language_info": {
   "codemirror_mode": {
    "name": "ipython",
    "version": 3
   },
   "file_extension": ".py",
   "mimetype": "text/x-python",
   "name": "python",
   "nbconvert_exporter": "python",
   "pygments_lexer": "ipython3",
   "version": "3.10.8"
  },
  "orig_nbformat": 4,
  "vscode": {
   "interpreter": {
    "hash": "072dcdfe02784ceef2335256f125707dedc44354bbd9cf5773b8e5ac8347ec7e"
   }
  }
 },
 "nbformat": 4,
 "nbformat_minor": 2
}
